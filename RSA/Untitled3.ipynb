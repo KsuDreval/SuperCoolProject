{
  "nbformat": 4,
  "nbformat_minor": 0,
  "metadata": {
    "colab": {
      "name": "Untitled3.ipynb",
      "provenance": [],
      "collapsed_sections": []
    },
    "kernelspec": {
      "name": "python3",
      "display_name": "Python 3"
    },
    "language_info": {
      "name": "python"
    }
  },
  "cells": [
    {
      "cell_type": "code",
      "metadata": {
        "id": "OiLIX5_GkH6W"
      },
      "source": [
        "from random import randint\n",
        "import math \n",
        "\n",
        "e = int\n",
        "d = int\n",
        "r = int\n",
        "x = int\n",
        "\n",
        "num1 = int(input(\"Введите первое число: \")) #простое число\n",
        "num2 = int(input(\"Введите второе число: \")) #простое число\n",
        "\n",
        "mod = abs(num1*num2) #модуль, который используется в открытом ключе\n",
        "print(\"Модуль этих чисел =\", mod)\n",
        "\n",
        "euler = (num1 - 1)*(num2 - 1)\n",
        "print(\"Функция Эйлера =\", euler)\n",
        "\n",
        "for i in range(2, euler): #поиск открытой эскпонент\n",
        "    if i % 2 == 1 and euler % i == 1: #1) простое число 2) меньше euler 3) взаимно простое с euler\n",
        "        e = i;\n",
        "print(\"Открытый ключ: \", e, mod)\n",
        "\n",
        "d = 17  #d-число обратное e по модулю mod Личный ключ\n",
        "print (\"Личный ключ: \", d, mod)\n",
        "\n",
        "#Зашифровка\n",
        "a = randint(0, mod) #рандомное число до модуля, которое шифруем\n",
        "print(a)\n",
        "b = pow(a, e) #возводим в степень\n",
        "print(b)\n",
        "\n",
        "x = b % mod\n",
        "print(x) #число, которое передаем\n",
        "\n",
        "#Расшифровка\n",
        "r = pow(x, d)\n",
        "print(r)\n",
        "x1 = r % mod \n",
        "print(x1)\n"
      ],
      "execution_count": null,
      "outputs": []
    }
  ]
}